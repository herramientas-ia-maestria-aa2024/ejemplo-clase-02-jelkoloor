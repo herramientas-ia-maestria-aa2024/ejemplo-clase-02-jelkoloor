{
 "cells": [
  {
   "cell_type": "code",
   "execution_count": 5,
   "metadata": {},
   "outputs": [
    {
     "name": "stdout",
     "output_type": "stream",
     "text": [
      "Como ya no estaba matriculado y no tenÃ­a clases obligatorias, decidÃ­ atender al curso de caligrafÃ­a para aprender cÃ³mo se hacÃ­a. AprendÃ­ cosas sobre el serif y tipografÃ­as sans serif, sobre los espacios variables entre letras, sobre quÃ© hace realmente grande a una gran tipografÃ­a. Era sutilmente bello, histÃ³rica y artÃ­sticamente, de una forma que la ciencia no puede capturar, y lo encontrÃ© fascinante. Nada de esto tenÃ­a ni la mÃ¡s mÃ­nima esperanza de aplicaciÃ³n prÃ¡ctica en mi vida. Pero diez aÃ±os mÃ¡s tarde, cuando estÃ¡bamos diseÃ±ando el primer ordenador Macintosh, todo eso volviÃ³ a mÃ­. Y diseÃ±amos el Mac con eso en su esencia. Fue el primer ordenador con tipografÃ­as bellas. Si nunca me hubiera dejado caer por aquel curso concreto en la universidad, el Mac jamÃ¡s habrÃ­a tenido mÃºltiples tipografÃ­as, ni caracteres con espaciado proporcional. Y como Windows no hizo mÃ¡s que copiar el Mac, es probable que ningÃºn ordenador personal los tuviera ahora. Si nunca hubiera decidido dejarlo, no habrÃ­a entrado en esa clase de caligrafÃ­a y los ordenadores personales no tendrÃ­an la maravillosa tipografÃ­a que poseen.\n",
      "\n"
     ]
    }
   ],
   "source": [
    "import spacy\n",
    "nlp = spacy.load(\"es_core_news_sm\")\n",
    "documento = open(\"discurso.txt\",'r', encoding='utf-8')\n",
    "texto=documento.read()\n",
    "print(texto)"
   ]
  },
  {
   "cell_type": "code",
   "execution_count": 6,
   "metadata": {},
   "outputs": [],
   "source": [
    "b=nlp(texto)"
   ]
  },
  {
   "cell_type": "code",
   "execution_count": 7,
   "metadata": {},
   "outputs": [
    {
     "name": "stdout",
     "output_type": "stream",
     "text": [
      " \n",
      " Como ya no estaba matriculado y no tenÃ­a clases obligatorias\n",
      " \n",
      " , decidÃ­ atender al curso de caligrafÃ­a para aprender cÃ³mo se hacÃ­a.\n",
      " \n",
      " AprendÃ­ cosas sobre el serif y tipografÃ­as sans serif, sobre los espacios variables entre letras, sobre quÃ© hace realmente grande a una gran tipografÃ­a.\n",
      " \n",
      " Era sutilmente bello, histÃ³rica y artÃ­sticamente, de una forma que la ciencia no puede capturar, y lo encontrÃ© fascinante.\n",
      " \n",
      " Nada de esto tenÃ­a ni la mÃ¡s mÃ­nima esperanza de aplicaciÃ³n prÃ¡ctica en mi vida.\n",
      " \n",
      " Pero diez aÃ±os mÃ¡s tarde, cuando estÃ¡bamos diseÃ±ando el primer ordenador Macintosh, todo eso volviÃ³ a mÃ­. Y diseÃ±amos el Mac con eso en su esencia.\n",
      " \n",
      " Fue el primer ordenador con tipografÃ­as bellas.\n",
      " \n",
      " Si nunca me hubiera dejado caer por aquel curso concreto en la universidad, el Mac jamÃ¡s habrÃ­a tenido mÃºltiples tipografÃ­as, ni caracteres con espaciado proporcional.\n",
      " \n",
      " Y como Windows no hizo mÃ¡s que copiar el Mac, es probable que ningÃºn ordenador personal los tuviera ahora.\n",
      " \n",
      " Si nunca hubiera decidido dejarlo, no habrÃ­a entrado en esa clase de caligrafÃ­a y los ordenadores personales no tendrÃ­an la maravillosa tipografÃ­a que poseen.\n",
      "\n"
     ]
    }
   ],
   "source": [
    "#oraciones\n",
    "for oraciones in b.sents:\n",
    "\tprint(f' ')\n",
    "\tprint(f' {oraciones}')"
   ]
  }
 ],
 "metadata": {
  "kernelspec": {
   "display_name": "Python 3",
   "language": "python",
   "name": "python3"
  },
  "language_info": {
   "codemirror_mode": {
    "name": "ipython",
    "version": 3
   },
   "file_extension": ".py",
   "mimetype": "text/x-python",
   "name": "python",
   "nbconvert_exporter": "python",
   "pygments_lexer": "ipython3",
   "version": "3.9.13"
  }
 },
 "nbformat": 4,
 "nbformat_minor": 2
}
